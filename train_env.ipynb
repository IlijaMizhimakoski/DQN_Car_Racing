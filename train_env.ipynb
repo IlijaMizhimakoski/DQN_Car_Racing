{
 "cells": [
  {
   "cell_type": "code",
   "execution_count": null,
   "id": "538c6d2b-c417-436d-a977-3743b7bb4d83",
   "metadata": {},
   "outputs": [],
   "source": [
    "import torch\n",
    "import gymnasium as gym\n",
    "import dqn as d\n",
    "import importlib\n",
    "import cv2 \n",
    "from gymnasium.wrappers import GrayscaleObservation, ResizeObservation, FrameStackObservation\n",
    "import threading\n",
    "import matplotlib.pyplot as plt\n",
    "from IPython.display import clear_output\n",
    "import time\n",
    "import plotly.graph_objects as go\n",
    "importlib.reload(d)"
   ]
  },
  {
   "cell_type": "code",
   "execution_count": null,
   "id": "e153f90c-7618-4bf5-84ff-8da8a1732c20",
   "metadata": {},
   "outputs": [],
   "source": [
    "def plot_rewards_threaded(interval=1.0, smooth_window=10):\n",
    "    fig = go.FigureWidget()\n",
    "    fig.add_scatter(x=[], y=[], mode='lines+markers', name='Smoothed Reward')\n",
    "    fig.update_layout(\n",
    "        title='Episode Rewards Over Time',\n",
    "        xaxis_title='Episode',\n",
    "        yaxis_title='Reward',\n",
    "        yaxis_range=[0, None]\n",
    "    )\n",
    "    display(fig)\n",
    "\n",
    "    def plot_loop():\n",
    "        while True:\n",
    "            time.sleep(interval)\n",
    "            if episode_rewards:\n",
    "                smoothed = [\n",
    "                    sum(episode_rewards[max(0, i - smooth_window):i + 1]) / (i - max(0, i - smooth_window) + 1)\n",
    "                    for i in range(len(episode_rewards))\n",
    "                ]\n",
    "                with fig.batch_update():\n",
    "                    fig.data[0].x = list(range(len(smoothed)))\n",
    "                    fig.data[0].y = smoothed\n",
    "\n",
    "    t = threading.Thread(target=plot_loop, daemon=True)\n",
    "    t.start()"
   ]
  },
  {
   "cell_type": "code",
   "execution_count": null,
   "id": "fc94ea6a-ce9b-4dc5-8196-4efb70d0a487",
   "metadata": {},
   "outputs": [],
   "source": [
    "env = gym.make(\"CarRacing-v3\", render_mode=\"rgb_array\", continuous=False)\n",
    "env = d.SkipFrame(env, skip=4)\n",
    "env = GrayscaleObservation(env)\n",
    "env = ResizeObservation(env, (84, 84))\n",
    "env = FrameStackObservation(env, stack_size=4)\n",
    "\n",
    "action_dim = env.action_space.n  # 5 discrete actions\n",
    "\n",
    "state_shape = (4, 84, 84)\n",
    "\n",
    "buffer = d.ReplayBuffer(capacity=800_000, state_dim=state_shape)\n",
    "agent = d.DQNAgent(state_shape, action_dim, buffer, ddqn=True)\n",
    "factor = 0.7 \n",
    "num_episodes = 2000"
   ]
  },
  {
   "cell_type": "code",
   "execution_count": null,
   "id": "50452815-5eea-4e04-a978-6a3e0e63cab5",
   "metadata": {},
   "outputs": [],
   "source": [
    "episode_rewards = []\n",
    "plot_rewards_threaded()\n",
    "\n",
    "for episode in range(num_episodes):\n",
    "    state, _ = env.reset()\n",
    "    terminated = truncated = False\n",
    "    cumm_reward = 0\n",
    "    step_num = 0\n",
    "    neg_count = 0\n",
    "    while not (terminated or truncated):\n",
    "        action = agent.act(state)\n",
    "        next_state, reward, terminated, truncated, _ = env.step(action)\n",
    "\n",
    "        step_num += 1\n",
    "        cumm_reward += reward\n",
    "\n",
    "        if cumm_reward < 0:\n",
    "            break\n",
    "\n",
    "        if step_num > 300:\n",
    "            if reward < 0:\n",
    "                neg_count += 1\n",
    "            if neg_count >= 25:\n",
    "                break\n",
    "            \n",
    "        buffer.push(state, action, reward, next_state, terminated)\n",
    "        agent.train()\n",
    "\n",
    "        state = next_state\n",
    "\n",
    "    agent.decay(episode,factor)\n",
    "    \n",
    "    episode_rewards.append(cumm_reward)\n",
    "\n",
    "env.close()"
   ]
  },
  {
   "cell_type": "code",
   "execution_count": null,
   "id": "64d60f82-a1fc-4fa8-b26b-57dc5ec3925d",
   "metadata": {},
   "outputs": [],
   "source": [
    "agent.load_full_model('models/DQN_model.pth')"
   ]
  },
  {
   "cell_type": "code",
   "execution_count": null,
   "id": "388a6c12-1801-40f4-a9b0-f23e2713b7e2",
   "metadata": {
    "scrolled": true
   },
   "outputs": [],
   "source": [
    "env = gym.make(\"CarRacing-v3\", render_mode=\"human\", continuous=False)\n",
    "env = d.SkipFrame(env, skip=4)\n",
    "env = GrayscaleObservation(env)\n",
    "env = ResizeObservation(env, (84, 84))\n",
    "env = FrameStackObservation(env, stack_size=4)\n",
    "test_episodes = 1\n",
    "\n",
    "for episode in range(test_episodes):\n",
    "    state, _ = env.reset()\n",
    "    terminated = truncated = False\n",
    "    while not (terminated or truncated):\n",
    "        action = agent.policy(state)\n",
    "        next_state, reward, terminated, truncated, _ = env.step(action)\n",
    "        state = next_state\n",
    "\n",
    "env.close()"
   ]
  },
  {
   "cell_type": "code",
   "execution_count": null,
   "id": "87b0b128-e5a8-43c2-a5c9-cfc024ae50e4",
   "metadata": {},
   "outputs": [],
   "source": [
    "agent.save_full_model('model.pth')"
   ]
  },
  {
   "cell_type": "code",
   "execution_count": null,
   "id": "accca91c-34bc-4367-85d9-340ee6754db4",
   "metadata": {},
   "outputs": [],
   "source": []
  }
 ],
 "metadata": {
  "kernelspec": {
   "display_name": "Python 3 (ipykernel)",
   "language": "python",
   "name": "python3"
  },
  "language_info": {
   "codemirror_mode": {
    "name": "ipython",
    "version": 3
   },
   "file_extension": ".py",
   "mimetype": "text/x-python",
   "name": "python",
   "nbconvert_exporter": "python",
   "pygments_lexer": "ipython3",
   "version": "3.13.2"
  }
 },
 "nbformat": 4,
 "nbformat_minor": 5
}
